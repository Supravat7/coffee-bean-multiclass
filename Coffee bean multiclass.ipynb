{
 "cells": [
  {
   "cell_type": "code",
   "execution_count": 1,
   "id": "902e6106",
   "metadata": {},
   "outputs": [
    {
     "name": "stdout",
     "output_type": "stream",
     "text": [
      "Total training dark images: 300\n",
      "Total Training green images: 300\n",
      "Total training medium images: 300\n",
      "Total training light images: 300\n",
      "Total test dark images: 100\n",
      "Total test green images: 100\n",
      "Total test medium images: 100\n",
      "Total test light images: 100\n"
     ]
    }
   ],
   "source": [
    "import os\n",
    "\n",
    "train_dir = 'E:/kaggle/coffee bean/train'\n",
    "test_dir = 'E:/kaggle/coffee bean/test'\n",
    "train_dark_dir = 'E:/kaggle/coffee bean/train/Dark'\n",
    "train_green_dir = 'E:/kaggle/coffee bean/train/Green'\n",
    "train_light_dir = 'E:/kaggle/coffee bean/train/Light'\n",
    "train_medium_dir = 'E:/kaggle/coffee bean/train/Medium'\n",
    "test_dark_dir = 'E:/kaggle/coffee bean/test/Dark'\n",
    "test_green_dir = 'E:/kaggle/coffee bean/test/Green'\n",
    "test_light_dir = 'E:/kaggle/coffee bean/test/Light'\n",
    "test_medium_dir = 'E:/kaggle/coffee bean/test/Medium'\n",
    "\n",
    "\n",
    "print('Total training dark images:', len(os.listdir(train_dark_dir)))\n",
    "print('Total Training green images:', len(os.listdir(train_green_dir)))  \n",
    "print('Total training medium images:', len(os.listdir(train_medium_dir)))\n",
    "print('Total training light images:', len(os.listdir(train_light_dir)))\n",
    "      \n",
    "print('Total test dark images:', len(os.listdir(test_dark_dir)))\n",
    "print('Total test green images:', len(os.listdir(test_green_dir)))  \n",
    "print('Total test medium images:', len(os.listdir(test_medium_dir)))\n",
    "print('Total test light images:', len(os.listdir(test_light_dir)))"
   ]
  },
  {
   "cell_type": "code",
   "execution_count": 2,
   "id": "7c70afdc",
   "metadata": {},
   "outputs": [
    {
     "name": "stdout",
     "output_type": "stream",
     "text": [
      "Model: \"sequential\"\n",
      "_________________________________________________________________\n",
      " Layer (type)                Output Shape              Param #   \n",
      "=================================================================\n",
      " conv2d (Conv2D)             (None, 222, 222, 32)      896       \n",
      "                                                                 \n",
      " max_pooling2d (MaxPooling2D  (None, 111, 111, 32)     0         \n",
      " )                                                               \n",
      "                                                                 \n",
      " conv2d_1 (Conv2D)           (None, 109, 109, 64)      18496     \n",
      "                                                                 \n",
      " max_pooling2d_1 (MaxPooling  (None, 54, 54, 64)       0         \n",
      " 2D)                                                             \n",
      "                                                                 \n",
      " conv2d_2 (Conv2D)           (None, 52, 52, 128)       73856     \n",
      "                                                                 \n",
      " max_pooling2d_2 (MaxPooling  (None, 26, 26, 128)      0         \n",
      " 2D)                                                             \n",
      "                                                                 \n",
      " conv2d_3 (Conv2D)           (None, 24, 24, 128)       147584    \n",
      "                                                                 \n",
      " max_pooling2d_3 (MaxPooling  (None, 12, 12, 128)      0         \n",
      " 2D)                                                             \n",
      "                                                                 \n",
      " flatten (Flatten)           (None, 18432)             0         \n",
      "                                                                 \n",
      " dense (Dense)               (None, 512)               9437696   \n",
      "                                                                 \n",
      " dropout (Dropout)           (None, 512)               0         \n",
      "                                                                 \n",
      " dense_1 (Dense)             (None, 4)                 2052      \n",
      "                                                                 \n",
      "=================================================================\n",
      "Total params: 9,680,580\n",
      "Trainable params: 9,680,580\n",
      "Non-trainable params: 0\n",
      "_________________________________________________________________\n"
     ]
    }
   ],
   "source": [
    "from tensorflow.keras import layers\n",
    "from tensorflow.keras import models\n",
    "from tensorflow.keras.layers import Dropout\n",
    "\n",
    "#Model buliding\n",
    "model = models.Sequential()\n",
    "model.add(layers.Conv2D(32, (3, 3), activation='relu',input_shape=(224, 224, 3)))\n",
    "model.add(layers.MaxPooling2D((2, 2)))\n",
    "model.add(layers.Conv2D(64, (3, 3), activation='relu'))\n",
    "model.add(layers.MaxPooling2D((2, 2)))\n",
    "model.add(layers.Conv2D(128, (3, 3), activation='relu'))\n",
    "model.add(layers.MaxPooling2D((2, 2)))\n",
    "model.add(layers.Conv2D(128, (3, 3), activation='relu'))\n",
    "model.add(layers.MaxPooling2D((2, 2)))\n",
    "model.add(layers.Flatten())\n",
    "model.add(layers.Dense(512, activation='relu'))\n",
    "model.add(Dropout(0.2))\n",
    "model.add(layers.Dense(4, activation='softmax'))\n",
    "model.summary()\n",
    "\n",
    "from tensorflow.keras import optimizers\n",
    "model.compile(loss='categorical_crossentropy', optimizer=optimizers.Adam(), metrics=['acc'])"
   ]
  },
  {
   "cell_type": "code",
   "execution_count": 3,
   "id": "dc68e4b6",
   "metadata": {},
   "outputs": [
    {
     "name": "stdout",
     "output_type": "stream",
     "text": [
      "Found 1200 images belonging to 4 classes.\n",
      "Found 400 images belonging to 4 classes.\n"
     ]
    }
   ],
   "source": [
    "from tensorflow.keras.preprocessing.image import ImageDataGenerator\n",
    "\n",
    "# All images will be rescaled by 1./255\n",
    "train_datagen = ImageDataGenerator(rescale=1./255,  rotation_range = 40, width_shift_range = 0.2, height_shift_range = 0.2,\n",
    "                                  shear_range = 0.2, zoom_range = 0.2, horizontal_flip = True, fill_mode='nearest')\n",
    "\n",
    "test_datagen = ImageDataGenerator(rescale=1./255)\n",
    "\n",
    "train_data = train_datagen.flow_from_directory(train_dir, target_size = (224, 224), batch_size = 20, class_mode = 'categorical')\n",
    "test_data = test_datagen.flow_from_directory(test_dir, target_size = (224, 224), batch_size = 20, class_mode = 'categorical')"
   ]
  },
  {
   "cell_type": "code",
   "execution_count": 4,
   "id": "a581de0b",
   "metadata": {},
   "outputs": [
    {
     "name": "stdout",
     "output_type": "stream",
     "text": [
      "Epoch 1/20\n",
      "60/60 [==============================] - 139s 2s/step - loss: 0.9868 - acc: 0.5792 - val_loss: 0.3494 - val_acc: 0.9100\n",
      "Epoch 2/20\n",
      "60/60 [==============================] - 113s 2s/step - loss: 0.1953 - acc: 0.9417 - val_loss: 0.4396 - val_acc: 0.8500\n",
      "Epoch 3/20\n",
      "60/60 [==============================] - 119s 2s/step - loss: 0.1712 - acc: 0.9408 - val_loss: 0.1589 - val_acc: 0.9600\n",
      "Epoch 4/20\n",
      "60/60 [==============================] - 115s 2s/step - loss: 0.1361 - acc: 0.9558 - val_loss: 0.0540 - val_acc: 0.9700\n",
      "Epoch 5/20\n",
      "60/60 [==============================] - 132s 2s/step - loss: 0.0984 - acc: 0.9650 - val_loss: 0.2029 - val_acc: 0.9200\n",
      "Epoch 6/20\n",
      "60/60 [==============================] - 120s 2s/step - loss: 0.1355 - acc: 0.9475 - val_loss: 0.1272 - val_acc: 0.9600\n",
      "Epoch 7/20\n",
      "60/60 [==============================] - 113s 2s/step - loss: 0.0876 - acc: 0.9725 - val_loss: 0.0565 - val_acc: 0.9800\n",
      "Epoch 8/20\n",
      "60/60 [==============================] - 117s 2s/step - loss: 0.1278 - acc: 0.9550 - val_loss: 0.2021 - val_acc: 0.9500\n",
      "Epoch 9/20\n",
      "60/60 [==============================] - 115s 2s/step - loss: 0.1680 - acc: 0.9425 - val_loss: 0.1157 - val_acc: 0.9500\n",
      "Epoch 10/20\n",
      "60/60 [==============================] - 103s 2s/step - loss: 0.0961 - acc: 0.9725 - val_loss: 0.0661 - val_acc: 0.9700\n",
      "Epoch 11/20\n",
      "60/60 [==============================] - 112s 2s/step - loss: 0.1042 - acc: 0.9608 - val_loss: 0.0604 - val_acc: 0.9700\n",
      "Epoch 12/20\n",
      "60/60 [==============================] - 102s 2s/step - loss: 0.0779 - acc: 0.9717 - val_loss: 0.1894 - val_acc: 0.9300\n",
      "Epoch 13/20\n",
      "60/60 [==============================] - 98s 2s/step - loss: 0.0818 - acc: 0.9725 - val_loss: 0.0541 - val_acc: 0.9900\n",
      "Epoch 14/20\n",
      "60/60 [==============================] - 129s 2s/step - loss: 0.0598 - acc: 0.9800 - val_loss: 0.1482 - val_acc: 0.9600\n",
      "Epoch 15/20\n",
      "60/60 [==============================] - 126s 2s/step - loss: 0.1076 - acc: 0.9658 - val_loss: 0.0655 - val_acc: 0.9600\n",
      "Epoch 16/20\n",
      "60/60 [==============================] - 122s 2s/step - loss: 0.1084 - acc: 0.9600 - val_loss: 0.0844 - val_acc: 0.9600\n",
      "Epoch 17/20\n",
      "60/60 [==============================] - 131s 2s/step - loss: 0.0763 - acc: 0.9758 - val_loss: 0.0802 - val_acc: 0.9700\n",
      "Epoch 18/20\n",
      "60/60 [==============================] - 139s 2s/step - loss: 0.0494 - acc: 0.9842 - val_loss: 0.0242 - val_acc: 1.0000\n",
      "Epoch 19/20\n",
      "60/60 [==============================] - 144s 2s/step - loss: 0.0543 - acc: 0.9792 - val_loss: 0.0925 - val_acc: 0.9700\n",
      "Epoch 20/20\n",
      "60/60 [==============================] - 152s 3s/step - loss: 0.1119 - acc: 0.9608 - val_loss: 0.2041 - val_acc: 0.9400\n"
     ]
    }
   ],
   "source": [
    "history = model.fit(train_data, steps_per_epoch = len(train_data), epochs = 20, validation_data=test_data,\n",
    "                     validation_steps = int(0.25*len(test_data)))\n"
   ]
  },
  {
   "cell_type": "code",
   "execution_count": 5,
   "id": "c78341a5",
   "metadata": {},
   "outputs": [
    {
     "data": {
      "image/png": "[encoded data removed]",
      "text/plain": [
       "<Figure size 432x288 with 1 Axes>"
      ]
     },
     "metadata": {
      "needs_background": "light"
     },
     "output_type": "display_data"
    },
    {
     "data": {
      "image/png": "[encoded data removed]",
      "text/plain": [
       "<Figure size 432x288 with 1 Axes>"
      ]
     },
     "metadata": {
      "needs_background": "light"
     },
     "output_type": "display_data"
    }
   ],
   "source": [
    "import matplotlib.pyplot as plt\n",
    "\n",
    "acc = history.history['acc']\n",
    "val_acc = history.history['val_acc']\n",
    "loss = history.history['loss']\n",
    "val_loss = history.history['val_loss']\n",
    "epochs = range(1, len(acc) + 1)\n",
    "plt.plot(epochs, acc, label='Training acc')\n",
    "plt.plot(epochs, val_acc, label='Validation acc')\n",
    "plt.title('Training and validation accuracy')\n",
    "plt.legend()\n",
    "plt.figure()\n",
    "plt.plot(epochs, loss, label='Training loss')\n",
    "plt.plot(epochs, val_loss, label='Validation loss')\n",
    "plt.title('Training and validation loss')\n",
    "plt.legend()\n",
    "plt.show()"
   ]
  },
  {
   "cell_type": "code",
   "execution_count": 6,
   "id": "8667be67",
   "metadata": {},
   "outputs": [
    {
     "name": "stdout",
     "output_type": "stream",
     "text": [
      "20/20 [==============================] - 14s 682ms/step - loss: 0.1730 - acc: 0.9475\n"
     ]
    },
    {
     "data": {
      "text/plain": [
       "[0.17302662134170532, 0.9474999904632568]"
      ]
     },
     "execution_count": 6,
     "metadata": {},
     "output_type": "execute_result"
    }
   ],
   "source": [
    "model.evaluate(test_data)"
   ]
  },
  {
   "cell_type": "code",
   "execution_count": null,
   "id": "b75baf8d",
   "metadata": {},
   "outputs": [],
   "source": []
  },
  {
   "cell_type": "code",
   "execution_count": null,
   "id": "15a0bcbe",
   "metadata": {},
   "outputs": [],
   "source": []
  }
 ],
 "metadata": {
  "kernelspec": {
   "display_name": "Python 3 (ipykernel)",
   "language": "python",
   "name": "python3"
  },
  "language_info": {
   "codemirror_mode": {
    "name": "ipython",
    "version": 3
   },
   "file_extension": ".py",
   "mimetype": "text/x-python",
   "name": "python",
   "nbconvert_exporter": "python",
   "pygments_lexer": "ipython3",
   "version": "3.9.12"
  }
 },
 "nbformat": 4,
 "nbformat_minor": 5
}
